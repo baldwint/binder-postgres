{
 "cells": [
  {
   "cell_type": "markdown",
   "metadata": {},
   "source": [
    "# Binder with Postgres server\n",
    "\n",
    "This binder is running a postgres server in the background. Currently, it has only the database that is there by default."
   ]
  },
  {
   "cell_type": "markdown",
   "metadata": {},
   "source": [
    "## psql\n",
    "\n",
    "We can connect to the db using psql:"
   ]
  },
  {
   "cell_type": "code",
   "execution_count": 1,
   "metadata": {},
   "outputs": [
    {
     "name": "stdout",
     "output_type": "stream",
     "text": [
      "psql is the PostgreSQL interactive terminal.\r\n",
      "\r\n",
      "Usage:\r\n",
      "  psql [OPTION]... [DBNAME [USERNAME]]\r\n",
      "\r\n",
      "General options:\r\n",
      "  -c, --command=COMMAND    run only single command (SQL or internal) and exit\r\n",
      "  -d, --dbname=DBNAME      database name to connect to (default: \"tombaldwin\")\r\n",
      "  -f, --file=FILENAME      execute commands from file, then exit\r\n",
      "  -l, --list               list available databases, then exit\r\n",
      "  -v, --set=, --variable=NAME=VALUE\r\n",
      "                           set psql variable NAME to VALUE\r\n",
      "                           (e.g., -v ON_ERROR_STOP=1)\r\n",
      "  -V, --version            output version information, then exit\r\n",
      "  -X, --no-psqlrc          do not read startup file (~/.psqlrc)\r\n",
      "  -1 (\"one\"), --single-transaction\r\n",
      "                           execute as a single transaction (if non-interactive)\r\n",
      "  -?, --help[=options]     show this help, then exit\r\n",
      "      --help=commands      list backslash commands, then exit\r\n",
      "      --help=variables     list special variables, then exit\r\n",
      "\r\n",
      "Input and output options:\r\n",
      "  -a, --echo-all           echo all input from script\r\n",
      "  -b, --echo-errors        echo failed commands\r\n",
      "  -e, --echo-queries       echo commands sent to server\r\n",
      "  -E, --echo-hidden        display queries that internal commands generate\r\n",
      "  -L, --log-file=FILENAME  send session log to file\r\n",
      "  -n, --no-readline        disable enhanced command line editing (readline)\r\n",
      "  -o, --output=FILENAME    send query results to file (or |pipe)\r\n",
      "  -q, --quiet              run quietly (no messages, only query output)\r\n",
      "  -s, --single-step        single-step mode (confirm each query)\r\n",
      "  -S, --single-line        single-line mode (end of line terminates SQL command)\r\n",
      "\r\n",
      "Output format options:\r\n",
      "  -A, --no-align           unaligned table output mode\r\n",
      "  -F, --field-separator=STRING\r\n",
      "                           field separator for unaligned output (default: \"|\")\r\n",
      "  -H, --html               HTML table output mode\r\n",
      "  -P, --pset=VAR[=ARG]     set printing option VAR to ARG (see \\pset command)\r\n",
      "  -R, --record-separator=STRING\r\n",
      "                           record separator for unaligned output (default: newline)\r\n",
      "  -t, --tuples-only        print rows only\r\n",
      "  -T, --table-attr=TEXT    set HTML table tag attributes (e.g., width, border)\r\n",
      "  -x, --expanded           turn on expanded table output\r\n",
      "  -z, --field-separator-zero\r\n",
      "                           set field separator for unaligned output to zero byte\r\n",
      "  -0, --record-separator-zero\r\n",
      "                           set record separator for unaligned output to zero byte\r\n",
      "\r\n",
      "Connection options:\r\n",
      "  -h, --host=HOSTNAME      database server host or socket directory (default: \"local socket\")\r\n",
      "  -p, --port=PORT          database server port (default: \"5432\")\r\n",
      "  -U, --username=USERNAME  database user name (default: \"tombaldwin\")\r\n",
      "  -w, --no-password        never prompt for password\r\n",
      "  -W, --password           force password prompt (should happen automatically)\r\n",
      "\r\n",
      "For more information, type \"\\?\" (for internal commands) or \"\\help\" (for SQL\r\n",
      "commands) from within psql, or consult the psql section in the PostgreSQL\r\n",
      "documentation.\r\n",
      "\r\n",
      "Report bugs to <pgsql-bugs@postgresql.org>.\r\n"
     ]
    }
   ],
   "source": [
    "!psql --help"
   ]
  },
  {
   "cell_type": "code",
   "execution_count": 2,
   "metadata": {},
   "outputs": [
    {
     "name": "stdout",
     "output_type": "stream",
     "text": [
      "                                     List of databases\r\n",
      "   Name    |   Owner    | Encoding |   Collate   |    Ctype    |     Access privileges     \r\n",
      "-----------+------------+----------+-------------+-------------+---------------------------\r\n",
      " postgres  | tombaldwin | UTF8     | en_US.UTF-8 | en_US.UTF-8 | \r\n",
      " template0 | tombaldwin | UTF8     | en_US.UTF-8 | en_US.UTF-8 | =c/tombaldwin            +\r\n",
      "           |            |          |             |             | tombaldwin=CTc/tombaldwin\r\n",
      " template1 | tombaldwin | UTF8     | en_US.UTF-8 | en_US.UTF-8 | =c/tombaldwin            +\r\n",
      "           |            |          |             |             | tombaldwin=CTc/tombaldwin\r\n",
      "(3 rows)\r\n",
      "\r\n"
     ]
    }
   ],
   "source": [
    "!psql -d postgres -c '\\l'"
   ]
  },
  {
   "cell_type": "markdown",
   "metadata": {},
   "source": [
    "## sql magic command\n",
    "\n",
    "It is somewhat nicer to use the sql magic commands:"
   ]
  },
  {
   "cell_type": "code",
   "execution_count": 3,
   "metadata": {},
   "outputs": [],
   "source": [
    "%load_ext sql"
   ]
  },
  {
   "cell_type": "code",
   "execution_count": 4,
   "metadata": {},
   "outputs": [],
   "source": [
    "%sql?"
   ]
  },
  {
   "cell_type": "code",
   "execution_count": 5,
   "metadata": {},
   "outputs": [
    {
     "data": {
      "text/plain": [
       "'Connected: @postgres'"
      ]
     },
     "execution_count": 5,
     "metadata": {},
     "output_type": "execute_result"
    }
   ],
   "source": [
    "%sql postgresql://localhost/postgres"
   ]
  },
  {
   "cell_type": "code",
   "execution_count": 6,
   "metadata": {},
   "outputs": [
    {
     "name": "stdout",
     "output_type": "stream",
     "text": [
      " * postgresql://localhost/postgres\n",
      "3 rows affected.\n"
     ]
    },
    {
     "data": {
      "text/html": [
       "<table>\n",
       "    <tr>\n",
       "        <th>Name</th>\n",
       "        <th>Owner</th>\n",
       "        <th>Encoding</th>\n",
       "        <th>Collate</th>\n",
       "        <th>Ctype</th>\n",
       "        <th>Access privileges</th>\n",
       "    </tr>\n",
       "    <tr>\n",
       "        <td>postgres</td>\n",
       "        <td>tombaldwin</td>\n",
       "        <td>UTF8</td>\n",
       "        <td>en_US.UTF-8</td>\n",
       "        <td>en_US.UTF-8</td>\n",
       "        <td>None</td>\n",
       "    </tr>\n",
       "    <tr>\n",
       "        <td>template0</td>\n",
       "        <td>tombaldwin</td>\n",
       "        <td>UTF8</td>\n",
       "        <td>en_US.UTF-8</td>\n",
       "        <td>en_US.UTF-8</td>\n",
       "        <td>=c/tombaldwin<br>tombaldwin=CTc/tombaldwin</td>\n",
       "    </tr>\n",
       "    <tr>\n",
       "        <td>template1</td>\n",
       "        <td>tombaldwin</td>\n",
       "        <td>UTF8</td>\n",
       "        <td>en_US.UTF-8</td>\n",
       "        <td>en_US.UTF-8</td>\n",
       "        <td>=c/tombaldwin<br>tombaldwin=CTc/tombaldwin</td>\n",
       "    </tr>\n",
       "</table>"
      ],
      "text/plain": [
       "[('postgres', 'tombaldwin', 'UTF8', 'en_US.UTF-8', 'en_US.UTF-8', None),\n",
       " ('template0',\n",
       "  'tombaldwin',\n",
       "  'UTF8',\n",
       "  'en_US.UTF-8',\n",
       "  'en_US.UTF-8',\n",
       "  '=c/tombaldwin\\ntombaldwin=CTc/tombaldwin'),\n",
       " ('template1',\n",
       "  'tombaldwin',\n",
       "  'UTF8',\n",
       "  'en_US.UTF-8',\n",
       "  'en_US.UTF-8',\n",
       "  '=c/tombaldwin\\ntombaldwin=CTc/tombaldwin')]"
      ]
     },
     "execution_count": 6,
     "metadata": {},
     "output_type": "execute_result"
    }
   ],
   "source": [
    "%%sql\n",
    "\\l"
   ]
  },
  {
   "cell_type": "markdown",
   "metadata": {},
   "source": [
    "## load data"
   ]
  },
  {
   "cell_type": "code",
   "execution_count": 14,
   "metadata": {},
   "outputs": [
    {
     "name": "stdout",
     "output_type": "stream",
     "text": [
      "/home/tombaldwin\r\n"
     ]
    }
   ],
   "source": [
    "!psql -d postgres -c '\\! pwd'"
   ]
  },
  {
   "cell_type": "code",
   "execution_count": 24,
   "metadata": {},
   "outputs": [
    {
     "name": "stdout",
     "output_type": "stream",
     "text": [
      " * postgresql://localhost/postgres\n",
      "Done.\n",
      "Done.\n"
     ]
    },
    {
     "data": {
      "text/plain": [
       "[]"
      ]
     },
     "execution_count": 24,
     "metadata": {},
     "output_type": "execute_result"
    }
   ],
   "source": [
    "%%sql\n",
    "drop table actor;\n",
    "create table actor(\n",
    " actor_id int primary key,\n",
    " first_name varchar(50),\n",
    " last_name varchar(50),\n",
    " last_update timestamp\n",
    ")"
   ]
  },
  {
   "cell_type": "code",
   "execution_count": 25,
   "metadata": {},
   "outputs": [
    {
     "name": "stdout",
     "output_type": "stream",
     "text": [
      "COPY 200\r\n"
     ]
    }
   ],
   "source": [
    "!psql -d postgres -c \"\\copy actor from 'data/actor.csv' delimiter ',' csv header\""
   ]
  },
  {
   "cell_type": "code",
   "execution_count": 26,
   "metadata": {},
   "outputs": [
    {
     "name": "stdout",
     "output_type": "stream",
     "text": [
      " * postgresql://localhost/postgres\n",
      "5 rows affected.\n"
     ]
    },
    {
     "data": {
      "text/html": [
       "<table>\n",
       "    <tr>\n",
       "        <th>actor_id</th>\n",
       "        <th>first_name</th>\n",
       "        <th>last_name</th>\n",
       "        <th>last_update</th>\n",
       "    </tr>\n",
       "    <tr>\n",
       "        <td>1</td>\n",
       "        <td>Penelope</td>\n",
       "        <td>Guiness</td>\n",
       "        <td>2006-02-15 10:05:00</td>\n",
       "    </tr>\n",
       "    <tr>\n",
       "        <td>2</td>\n",
       "        <td>Nick</td>\n",
       "        <td>Wahlberg</td>\n",
       "        <td>2006-02-15 10:05:00</td>\n",
       "    </tr>\n",
       "    <tr>\n",
       "        <td>3</td>\n",
       "        <td>Ed</td>\n",
       "        <td>Chase</td>\n",
       "        <td>2006-02-15 10:05:00</td>\n",
       "    </tr>\n",
       "    <tr>\n",
       "        <td>4</td>\n",
       "        <td>Jennifer</td>\n",
       "        <td>Davis</td>\n",
       "        <td>2006-02-15 10:05:00</td>\n",
       "    </tr>\n",
       "    <tr>\n",
       "        <td>5</td>\n",
       "        <td>Johnny</td>\n",
       "        <td>Lollobrigida</td>\n",
       "        <td>2006-02-15 10:05:00</td>\n",
       "    </tr>\n",
       "</table>"
      ],
      "text/plain": [
       "[(1, 'Penelope', 'Guiness', datetime.datetime(2006, 2, 15, 10, 5)),\n",
       " (2, 'Nick', 'Wahlberg', datetime.datetime(2006, 2, 15, 10, 5)),\n",
       " (3, 'Ed', 'Chase', datetime.datetime(2006, 2, 15, 10, 5)),\n",
       " (4, 'Jennifer', 'Davis', datetime.datetime(2006, 2, 15, 10, 5)),\n",
       " (5, 'Johnny', 'Lollobrigida', datetime.datetime(2006, 2, 15, 10, 5))]"
      ]
     },
     "execution_count": 26,
     "metadata": {},
     "output_type": "execute_result"
    }
   ],
   "source": [
    "%%sql\n",
    "select * from actor limit 5;"
   ]
  },
  {
   "cell_type": "markdown",
   "metadata": {},
   "source": [
    "## load all data"
   ]
  },
  {
   "cell_type": "code",
   "execution_count": 33,
   "metadata": {},
   "outputs": [
    {
     "name": "stdout",
     "output_type": "stream",
     "text": [
      "DROP TABLE\n",
      "CREATE TABLE\n",
      "COPY 200\n",
      "psql:data/load_movies.sql:11: NOTICE:  table \"rental\" does not exist, skipping\n",
      "DROP TABLE\n",
      "CREATE TABLE\n",
      "COPY 16044\n",
      "psql:data/load_movies.sql:23: NOTICE:  table \"film_actor\" does not exist, skipping\n",
      "DROP TABLE\n",
      "CREATE TABLE\n",
      "psql:data/load_movies.sql:29: ERROR:  invalid input syntax for integer: \"1.0\"\n",
      "CONTEXT:  COPY film_actor, line 2, column film_id: \"1.0\"\n",
      "psql:data/load_movies.sql:31: NOTICE:  table \"language\" does not exist, skipping\n",
      "DROP TABLE\n",
      "CREATE TABLE\n",
      "COPY 6\n",
      "psql:data/load_movies.sql:39: NOTICE:  table \"films\" does not exist, skipping\n",
      "DROP TABLE\n",
      "CREATE TABLE\n",
      "COPY 1000\n",
      "psql:data/load_movies.sql:58: NOTICE:  table \"film_category\" does not exist, skipping\n",
      "DROP TABLE\n",
      "CREATE TABLE\n",
      "psql:data/load_movies.sql:64: ERROR:  invalid input syntax for type double precision: \"Action\"\n",
      "CONTEXT:  COPY film_category, line 2, column category_id: \"Action\"\n",
      "psql:data/load_movies.sql:67: NOTICE:  table \"category\" does not exist, skipping\n",
      "DROP TABLE\n",
      "CREATE TABLE\n",
      "psql:data/load_movies.sql:73: data/category.csv: No such file or directory\n"
     ]
    }
   ],
   "source": [
    "!psql -d postgres -f \"data/load_movies.sql\""
   ]
  },
  {
   "cell_type": "code",
   "execution_count": 34,
   "metadata": {},
   "outputs": [
    {
     "name": "stdout",
     "output_type": "stream",
     "text": [
      " * postgresql://localhost/postgres\n",
      "7 rows affected.\n"
     ]
    },
    {
     "data": {
      "text/html": [
       "<table>\n",
       "    <tr>\n",
       "        <th>Schema</th>\n",
       "        <th>Name</th>\n",
       "        <th>Type</th>\n",
       "        <th>Owner</th>\n",
       "    </tr>\n",
       "    <tr>\n",
       "        <td>public</td>\n",
       "        <td>actor</td>\n",
       "        <td>table</td>\n",
       "        <td>tombaldwin</td>\n",
       "    </tr>\n",
       "    <tr>\n",
       "        <td>public</td>\n",
       "        <td>category</td>\n",
       "        <td>table</td>\n",
       "        <td>tombaldwin</td>\n",
       "    </tr>\n",
       "    <tr>\n",
       "        <td>public</td>\n",
       "        <td>film_actor</td>\n",
       "        <td>table</td>\n",
       "        <td>tombaldwin</td>\n",
       "    </tr>\n",
       "    <tr>\n",
       "        <td>public</td>\n",
       "        <td>film_category</td>\n",
       "        <td>table</td>\n",
       "        <td>tombaldwin</td>\n",
       "    </tr>\n",
       "    <tr>\n",
       "        <td>public</td>\n",
       "        <td>films</td>\n",
       "        <td>table</td>\n",
       "        <td>tombaldwin</td>\n",
       "    </tr>\n",
       "    <tr>\n",
       "        <td>public</td>\n",
       "        <td>language</td>\n",
       "        <td>table</td>\n",
       "        <td>tombaldwin</td>\n",
       "    </tr>\n",
       "    <tr>\n",
       "        <td>public</td>\n",
       "        <td>rental</td>\n",
       "        <td>table</td>\n",
       "        <td>tombaldwin</td>\n",
       "    </tr>\n",
       "</table>"
      ],
      "text/plain": [
       "[('public', 'actor', 'table', 'tombaldwin'),\n",
       " ('public', 'category', 'table', 'tombaldwin'),\n",
       " ('public', 'film_actor', 'table', 'tombaldwin'),\n",
       " ('public', 'film_category', 'table', 'tombaldwin'),\n",
       " ('public', 'films', 'table', 'tombaldwin'),\n",
       " ('public', 'language', 'table', 'tombaldwin'),\n",
       " ('public', 'rental', 'table', 'tombaldwin')]"
      ]
     },
     "execution_count": 34,
     "metadata": {},
     "output_type": "execute_result"
    }
   ],
   "source": [
    "%%sql\n",
    "\\dt"
   ]
  },
  {
   "cell_type": "markdown",
   "metadata": {},
   "source": [
    "## TODO: example code"
   ]
  },
  {
   "cell_type": "code",
   "execution_count": null,
   "metadata": {},
   "outputs": [],
   "source": [
    "%matplotlib inline"
   ]
  },
  {
   "cell_type": "code",
   "execution_count": null,
   "metadata": {},
   "outputs": [],
   "source": []
  }
 ],
 "metadata": {
  "kernelspec": {
   "display_name": "Python 3",
   "language": "python",
   "name": "python3"
  },
  "language_info": {
   "codemirror_mode": {
    "name": "ipython",
    "version": 3
   },
   "file_extension": ".py",
   "mimetype": "text/x-python",
   "name": "python",
   "nbconvert_exporter": "python",
   "pygments_lexer": "ipython3",
   "version": "3.7.3"
  }
 },
 "nbformat": 4,
 "nbformat_minor": 2
}
